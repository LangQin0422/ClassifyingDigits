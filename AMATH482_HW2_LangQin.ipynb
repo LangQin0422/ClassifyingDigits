{
  "nbformat": 4,
  "nbformat_minor": 0,
  "metadata": {
    "colab": {
      "name": "AMATH482_HW2_LangQin.ipynb",
      "provenance": [],
      "collapsed_sections": []
    },
    "kernelspec": {
      "name": "python3",
      "display_name": "Python 3"
    },
    "language_info": {
      "name": "python"
    }
  },
  "cells": [
    {
      "cell_type": "markdown",
      "source": [
        "# AMATH 482 Homework 2 - *Digit Classification*\n",
        "## Lang Qin"
      ],
      "metadata": {
        "id": "acCAzGDAg2AY"
      }
    },
    {
      "cell_type": "markdown",
      "source": [
        "# Environment Setup\n",
        "\n",
        "We first connect our notebook to personal google drive."
      ],
      "metadata": {
        "id": "-NaYbJNchIuR"
      }
    },
    {
      "cell_type": "code",
      "execution_count": 1,
      "metadata": {
        "colab": {
          "base_uri": "https://localhost:8080/"
        },
        "id": "_Z79Lw5Kg0I1",
        "outputId": "c764b67d-b0d8-446d-c206-f1edbc72696d"
      },
      "outputs": [
        {
          "output_type": "stream",
          "name": "stdout",
          "text": [
            "Mounted at /content/drive\n"
          ]
        }
      ],
      "source": [
        "from google.colab import drive\n",
        "\n",
        "# the following command loads up your google drive. It will promp you to give Colab access to your Gdrive\n",
        "drive.mount('/content/drive')"
      ]
    },
    {
      "cell_type": "markdown",
      "source": [
        "Then, we read in the given the dataset. "
      ],
      "metadata": {
        "id": "T7MC9YIVhQJ-"
      }
    },
    {
      "cell_type": "code",
      "source": [
        "import numpy as np\n",
        "import matplotlib.pyplot as plt\n",
        "\n",
        "# load training and test sets \n",
        "\n",
        "path_to_train = '/content/drive/My Drive/AMATH 482/HW2/MNIST_training_set.npy'\n",
        "path_to_test = '/content/drive/My Drive/AMATH 482/HW2/MNIST_test_set.npy'\n",
        "\n",
        "d_train = np.load(path_to_train, allow_pickle=True)\n",
        "d_test = np.load(path_to_test, allow_pickle=True)"
      ],
      "metadata": {
        "id": "o8DfaYTOhWuT"
      },
      "execution_count": 2,
      "outputs": []
    },
    {
      "cell_type": "markdown",
      "source": [
        "Notice that *d_train* and *d_test* consist of features and labels. We need\n",
        "to separate them for further analysis."
      ],
      "metadata": {
        "id": "SHkD05LvnQag"
      }
    },
    {
      "cell_type": "code",
      "source": [
        "# Extract features and labels\n",
        "X_train = d_train.item().get('features')\n",
        "Y_train = d_train.item().get('labels')\n",
        "\n",
        "print(\"Shape of training features: \" + str(X_train.shape))\n",
        "print(\"Shape of training labels: \" + str(Y_train.shape))\n",
        "\n",
        "X_test = d_test.item().get('features')\n",
        "Y_test = d_test.item().get('labels')\n",
        "\n",
        "print(\"Shape of testing feature: \" + str(X_test.shape))\n",
        "print(\"Shape of testing labels: \" + str(Y_test.shape))"
      ],
      "metadata": {
        "colab": {
          "base_uri": "https://localhost:8080/"
        },
        "id": "DS4bQsnDnXZH",
        "outputId": "0024b532-d017-4fe1-b065-a6384c008be6"
      },
      "execution_count": 3,
      "outputs": [
        {
          "output_type": "stream",
          "name": "stdout",
          "text": [
            "Shape of training features: (2000, 256)\n",
            "Shape of training labels: (2000,)\n",
            "Shape of testing feature: (500, 256)\n",
            "Shape of testing labels: (500,)\n"
          ]
        }
      ]
    },
    {
      "cell_type": "markdown",
      "source": [
        "Now we are ready to investigate the digits."
      ],
      "metadata": {
        "id": "uRt_yDdspKqS"
      }
    },
    {
      "cell_type": "markdown",
      "source": [
        "# Dimensionality of $X_{train}$ by PCA\n",
        "\n",
        "The first step is to perform Singular Value Decomposition of mean-subtracted\n",
        "training data."
      ],
      "metadata": {
        "id": "0l8exvWpo46R"
      }
    },
    {
      "cell_type": "code",
      "source": [
        "import numpy.matlib as matlib\n",
        "\n",
        "# compute svd of centered data\n",
        "ave_data = np.mean(X_train, 0)\n",
        "centered_data = X_train - matlib.repmat(ave_data, 2000, 1)\n",
        "U, S, Vt = np.linalg.svd(centered_data, full_matrices=False)\n",
        "\n",
        "# view the shape of U, S ,Vt\n",
        "print(U.shape, S.shape, Vt.shape)"
      ],
      "metadata": {
        "colab": {
          "base_uri": "https://localhost:8080/"
        },
        "id": "EcYXZbfOkezy",
        "outputId": "12272bf9-6eb7-44f8-b323-a1769fadb6ad"
      },
      "execution_count": 4,
      "outputs": [
        {
          "output_type": "stream",
          "name": "stdout",
          "text": [
            "(2000, 256) (256,) (256, 256)\n"
          ]
        }
      ]
    },
    {
      "cell_type": "code",
      "source": [
        "U[:,0:16].shape"
      ],
      "metadata": {
        "colab": {
          "base_uri": "https://localhost:8080/"
        },
        "id": "uEoiQ3oxurMe",
        "outputId": "3ce4a40d-a689-455c-ee12-3e4d2b91dc3d"
      },
      "execution_count": 5,
      "outputs": [
        {
          "output_type": "execute_result",
          "data": {
            "text/plain": [
              "(2000, 16)"
            ]
          },
          "metadata": {},
          "execution_count": 5
        }
      ]
    },
    {
      "cell_type": "markdown",
      "source": [
        "Plot the averaged digit and first 16 PCA modes as 16×16 images."
      ],
      "metadata": {
        "id": "whMLt3QfsjZx"
      }
    },
    {
      "cell_type": "code",
      "source": [
        "# plot averaged digit image\n",
        "fig1 = plt.figure(figsize=(5,5))\n",
        "\n",
        "ax1 = fig1.add_subplot(111)\n",
        "img_avg = ax1.imshow(np.reshape(ave_data, (16,16)))\n",
        "img_avg.set_cmap('gray')\n",
        "plt.axis('off')\n",
        "\n",
        "plt.show()"
      ],
      "metadata": {
        "colab": {
          "base_uri": "https://localhost:8080/",
          "height": 303
        },
        "id": "GkGqcN3usi39",
        "outputId": "25f10d0e-c0a7-454e-a806-4e2e68b4036f"
      },
      "execution_count": 6,
      "outputs": [
        {
          "output_type": "display_data",
          "data": {
            "image/png": "[encoded data removed]",
            "text/plain": [
              "<Figure size 360x360 with 1 Axes>"
            ]
          },
          "metadata": {
            "needs_background": "light"
          }
        }
      ]
    },
    {
      "cell_type": "code",
      "source": [
        "# plot first 16 PCA modes\n",
        "fig, ax = plt.subplots(2, 8, figsize=(20,5))\n",
        "\n",
        "for i in range(2):\n",
        "    for j in range(8):\n",
        "        ax[i][j].imshow(np.reshape(Vt[i*8+j, :], (16,16)), cmap='gray')\n",
        "        ax[i][j].set_title(\"Mode = \" + str(i*8+j+1), fontsize=10)\n",
        "        ax[i][j].axis('off')\n",
        "\n",
        "plt.show()\t"
      ],
      "metadata": {
        "colab": {
          "base_uri": "https://localhost:8080/",
          "height": 312
        },
        "id": "t9VV1P0gwQZD",
        "outputId": "2e33620c-8139-4cb9-e7a4-9bb68376cc07"
      },
      "execution_count": 7,
      "outputs": [
        {
          "output_type": "display_data",
          "data": {
            "image/png": "[encoded data removed]",
            "text/plain": [
              "<Figure size 1440x360 with 16 Axes>"
            ]
          },
          "metadata": {
            "needs_background": "light"
          }
        }
      ]
    },
    {
      "cell_type": "markdown",
      "source": [
        "Plot the singular values to see the effective dimension of the data set."
      ],
      "metadata": {
        "id": "1vbVIpZ6zgxD"
      }
    },
    {
      "cell_type": "code",
      "source": [
        "fig, ax = plt.subplots(1, 2, figsize = (10,5))\n",
        "\n",
        "# plot singular values\n",
        "ax[0].plot(S[:255])\n",
        "ax[0].set_xlabel('$k$', fontsize=15)\n",
        "ax[0].set_ylabel('Sinuglar Values, $\\sigma_k$', fontsize=15)\n",
        "ax[0].grid()\n",
        "\n",
        "# plot log singular values\n",
        "ax[1].plot(np.log(S)[:255])\n",
        "ax[1].set_xlabel('$k$', fontsize=15)\n",
        "ax[1].set_ylabel('$\\log(\\sigma_k)$', fontsize=15)\n",
        "ax[1].grid()\n"
      ],
      "metadata": {
        "colab": {
          "base_uri": "https://localhost:8080/",
          "height": 344
        },
        "id": "rree8ligrqQK",
        "outputId": "dc594ea6-99ed-4b38-b026-caec7df38d53"
      },
      "execution_count": 8,
      "outputs": [
        {
          "output_type": "display_data",
          "data": {
            "image/png": "[encoded data removed]",
            "text/plain": [
              "<Figure size 720x360 with 2 Axes>"
            ]
          },
          "metadata": {
            "needs_background": "light"
          }
        }
      ]
    },
    {
      "cell_type": "markdown",
      "source": [
        "# Mode Approximation\n",
        "\n",
        "Here we will compute the number of PCA modes necessary to approximate\n",
        "$X_{train}$ up to 60%, 80%, and 90% in the Frobenius norm."
      ],
      "metadata": {
        "id": "LtOFh0TM5JvM"
      }
    },
    {
      "cell_type": "code",
      "source": [
        "# Frobenius norm of X_train\n",
        "X_train_fn = np.linalg.norm(S)\n",
        "\n",
        "# record approximations percentage\n",
        "Fns = list()\n",
        "\n",
        "# compute Frobenius norm corresponds to each rank\n",
        "for i in range(256):\n",
        "    Fns.append(np.linalg.norm(np.diag(S[:i+1])) / X_train_fn)\n"
      ],
      "metadata": {
        "id": "Hoageqge5kR_"
      },
      "execution_count": 9,
      "outputs": []
    },
    {
      "cell_type": "code",
      "source": [
        "# plot approximation percentage vs modes\n",
        "fig, ax = plt.subplots(1, 1, figsize = (5,5))\n",
        "ax.plot(Fns)\n",
        "ax.set_xlabel('$k$', fontsize=15)\n",
        "ax.set_ylabel('Approximation Percentage', fontsize=15)\n",
        "ax.grid()"
      ],
      "metadata": {
        "colab": {
          "base_uri": "https://localhost:8080/",
          "height": 340
        },
        "id": "AQrWtG0l8YHl",
        "outputId": "0eb1481b-4049-4872-b9e6-c052dec76259"
      },
      "execution_count": 10,
      "outputs": [
        {
          "output_type": "display_data",
          "data": {
            "image/png": "[encoded data removed]",
            "text/plain": [
              "<Figure size 360x360 with 1 Axes>"
            ]
          },
          "metadata": {
            "needs_background": "light"
          }
        }
      ]
    },
    {
      "cell_type": "code",
      "source": [
        "# fnd number of mode corresponds to 60%\n",
        "i = 0\n",
        "while Fns[i] < 0.6:\n",
        "    i += 1\n",
        "print(\"Up to 60%: \" + str(i+1))\n",
        "\n",
        "# fnd number of mode corresponds to 80%\n",
        "i = 0\n",
        "while Fns[i] < 0.8:\n",
        "    i += 1\n",
        "print(\"Up to 80%: \" + str(i+1))\n",
        "\n",
        "# fnd number of mode corresponds to 90%\n",
        "i = 0\n",
        "while Fns[i] < 0.9:\n",
        "    i += 1\n",
        "print(\"Up to 90%: \" + str(i+1))"
      ],
      "metadata": {
        "colab": {
          "base_uri": "https://localhost:8080/"
        },
        "id": "hM5AQFouRaQZ",
        "outputId": "9c8dca41-9e55-470e-f208-a1712f303384"
      },
      "execution_count": 11,
      "outputs": [
        {
          "output_type": "stream",
          "name": "stdout",
          "text": [
            "Up to 60%: 3\n",
            "Up to 80%: 7\n",
            "Up to 90%: 14\n"
          ]
        }
      ]
    },
    {
      "cell_type": "markdown",
      "source": [
        "# Classification\n",
        "\n",
        "In this section, we will develop functions to distinguish digit images\n",
        "via PCA and Ridge regression.\n"
      ],
      "metadata": {
        "id": "W77c2egORYe-"
      }
    },
    {
      "cell_type": "markdown",
      "source": [
        "## Feature Extraction of Given Labels\n",
        "\n",
        "Firstly, we implement a function to extract features of a label."
      ],
      "metadata": {
        "id": "ViFd66U3QQKU"
      }
    },
    {
      "cell_type": "code",
      "source": [
        "def feature_extract(data, target_labels):\n",
        "    # extract X, Y\n",
        "    X = data.item().get('features')\n",
        "    Y = data.item().get('labels')\n",
        "\n",
        "    # extract values\n",
        "    idx_0 = np.where(Y == target_labels[0])\n",
        "    idx_1 = np.where(Y == target_labels[1])\n",
        "\n",
        "    idx = np.append(np.asarray(idx_0).flatten(), np.asarray(idx_1).flatten())\n",
        "    X_target = X[idx, :]\n",
        "    Y_target = Y[idx,]\n",
        "\n",
        "    return (X_target, Y_target)\n"
      ],
      "metadata": {
        "id": "FmztGW6xtSlk"
      },
      "execution_count": 12,
      "outputs": []
    },
    {
      "cell_type": "markdown",
      "source": [
        "Now, extract features and labels of the digit 1 and 8 from the training data set."
      ],
      "metadata": {
        "id": "QHRdkehj5n_m"
      }
    },
    {
      "cell_type": "code",
      "source": [
        "features_train_18, labels_train_18 = feature_extract(d_train, (1,8))"
      ],
      "metadata": {
        "id": "47RExde20VCe"
      },
      "execution_count": 13,
      "outputs": []
    },
    {
      "cell_type": "markdown",
      "source": [
        "## Projection onto the PCA Coefficints"
      ],
      "metadata": {
        "id": "HhgyZb6m6yaq"
      }
    },
    {
      "cell_type": "code",
      "source": [
        "A_train_18 = (Vt[0:16, :] @ features_train_18.T).T\n",
        "A_train_18.shape"
      ],
      "metadata": {
        "colab": {
          "base_uri": "https://localhost:8080/"
        },
        "id": "odDMlsMNtcea",
        "outputId": "3c382efc-7dd2-4af7-e721-1c4fddad7daf"
      },
      "execution_count": 14,
      "outputs": [
        {
          "output_type": "execute_result",
          "data": {
            "text/plain": [
              "(455, 16)"
            ]
          },
          "metadata": {},
          "execution_count": 14
        }
      ]
    },
    {
      "cell_type": "markdown",
      "source": [
        "## Classification by Ridge Regression\n",
        "\n",
        "**Classification of Digit 1 and 8**\n",
        "\n",
        "We firstly relabel the features to perform binary classification of the\n",
        "digits **1** and **8**.\n"
      ],
      "metadata": {
        "id": "NdNhR3W-QEfz"
      }
    },
    {
      "cell_type": "code",
      "source": [
        "# assign -1 to digit 1\n",
        "labels_train_18[np.where(labels_train_18 == 1)] = -1\n",
        "\n",
        "# assign 1 to digit 8\n",
        "labels_train_18[np.where(labels_train_18 == 8)] = 1"
      ],
      "metadata": {
        "id": "JD8zwbmX3u5v"
      },
      "execution_count": 15,
      "outputs": []
    },
    {
      "cell_type": "markdown",
      "source": [
        "Then we fit the Ridge regression model. "
      ],
      "metadata": {
        "id": "keinaqCZkeWP"
      }
    },
    {
      "cell_type": "code",
      "source": [
        "from sklearn import linear_model\n",
        "\n",
        "# initialize alpha values\n",
        "l = np.linspace(-15, 30, 50)\n",
        "alpha_vals = 2 ** l\n",
        "\n",
        "# fit the model\n",
        "model = linear_model.RidgeCV(alphas=alpha_vals)\n",
        "model.fit(A_train_18, labels_train_18)"
      ],
      "metadata": {
        "colab": {
          "base_uri": "https://localhost:8080/"
        },
        "id": "re-Wo0IIQsoE",
        "outputId": "0690c14f-67e5-4541-cd76-5a19fb2b1e13"
      },
      "execution_count": 35,
      "outputs": [
        {
          "output_type": "execute_result",
          "data": {
            "text/plain": [
              "RidgeCV(alphas=array([3.05175781e-05, 5.76774675e-05, 1.09008987e-04, 2.06024287e-04,\n",
              "       3.89380805e-04, 7.35920087e-04, 1.39087076e-03, 2.62871131e-03,\n",
              "       4.96819934e-03, 9.38977382e-03, 1.77464402e-02, 3.35403329e-02,\n",
              "       6.33903992e-02, 1.19806286e-01, 2.26430916e-01, 4.27948829e-01,\n",
              "       8.08812697e-01, 1.52863599e+00, 2.88908419e+00, 5.46029763e+00,\n",
              "       1.03198274e+01, 1.95042185e+0...\n",
              "       1.31673054e+02, 2.48858814e+02, 4.70337000e+02, 8.88925293e+02,\n",
              "       1.68004681e+03, 3.17524690e+03, 6.00113807e+03, 1.13420025e+04,\n",
              "       2.14361040e+04, 4.05137062e+04, 7.65699023e+04, 1.44715221e+05,\n",
              "       2.73508186e+05, 5.16923705e+05, 9.76973012e+05, 1.84645482e+06,\n",
              "       3.48975392e+06, 6.59554856e+06, 1.24654236e+07, 2.35593421e+07,\n",
              "       4.45265737e+07, 8.41541225e+07, 1.59049209e+08, 3.00599070e+08,\n",
              "       5.68124805e+08, 1.07374182e+09]))"
            ]
          },
          "metadata": {},
          "execution_count": 35
        }
      ]
    },
    {
      "cell_type": "markdown",
      "source": [
        "Score our model by Mean Squre Error."
      ],
      "metadata": {
        "id": "Y3bOSUMJ9HwG"
      }
    },
    {
      "cell_type": "code",
      "source": [
        "from sklearn.metrics import mean_squared_error\n",
        "\n",
        "# training mean square error\n",
        "mean_squared_error(y_true=labels_train_18, y_pred=model.predict(A_train_18))"
      ],
      "metadata": {
        "colab": {
          "base_uri": "https://localhost:8080/"
        },
        "id": "sTXvpYT88zce",
        "outputId": "dc928b1a-578c-4036-924e-482ac1a6d559"
      },
      "execution_count": 36,
      "outputs": [
        {
          "output_type": "execute_result",
          "data": {
            "text/plain": [
              "0.07549164234003777"
            ]
          },
          "metadata": {},
          "execution_count": 36
        }
      ]
    },
    {
      "cell_type": "markdown",
      "source": [
        "Now, use the trained model to predict our testing data to evaluate our model."
      ],
      "metadata": {
        "id": "rATlCELn9N3o"
      }
    },
    {
      "cell_type": "code",
      "source": [
        "# extract testing data\n",
        "features_test_18, labels_test_18 = feature_extract(d_test, (1,8))\n",
        "\n",
        "A_test_18 = (Vt[0:16, :] @ features_test_18.T).T\n",
        "\n",
        "labels_test_18[np.where(labels_test_18 == 1)] = -1  # assign -1 to digit 1\n",
        "labels_test_18[np.where(labels_test_18 == 8)] = 1  # assign 1 to digit 8\n",
        "\n",
        "# training mean square error\n",
        "mean_squared_error(y_true=labels_test_18, y_pred=model.predict(A_test_18))"
      ],
      "metadata": {
        "colab": {
          "base_uri": "https://localhost:8080/"
        },
        "id": "kd50Ofln9wgD",
        "outputId": "0d56403c-40a4-4d2f-824e-adcd60a1c83d"
      },
      "execution_count": 37,
      "outputs": [
        {
          "output_type": "execute_result",
          "data": {
            "text/plain": [
              "0.08257789655567387"
            ]
          },
          "metadata": {},
          "execution_count": 37
        }
      ]
    },
    {
      "cell_type": "markdown",
      "source": [
        "**Classification of Digit 3 and 8**"
      ],
      "metadata": {
        "id": "YhHlCtdp-7bh"
      }
    },
    {
      "cell_type": "code",
      "source": [
        "# extract and preprocess training data\n",
        "features_train_38, labels_train_38 = feature_extract(d_train, (3,8))\n",
        "\n",
        "# PCA projection\n",
        "A_train_38 = (Vt[0:16, :] @ features_train_38.T).T\n",
        "\n",
        "labels_train_38[np.where(labels_train_38 == 3)] = -1  # assign -1 to digit 1\n",
        "labels_train_38[np.where(labels_train_38 == 8)] = 1  # assign 1 to digit 8\n",
        "\n",
        "# fit the model\n",
        "model.fit(A_train_38, labels_train_38)\n",
        "\n",
        "# training mean square error\n",
        "mean_squared_error(y_true=labels_train_38, y_pred=model.predict(A_train_38))"
      ],
      "metadata": {
        "colab": {
          "base_uri": "https://localhost:8080/"
        },
        "id": "h46mvAyN-9bG",
        "outputId": "cf1d28e0-71c9-4487-e733-e29f98603331"
      },
      "execution_count": 38,
      "outputs": [
        {
          "output_type": "execute_result",
          "data": {
            "text/plain": [
              "0.18286929272609048"
            ]
          },
          "metadata": {},
          "execution_count": 38
        }
      ]
    },
    {
      "cell_type": "code",
      "source": [
        "# extract and preprocess test data\n",
        "features_test_38, labels_test_38 = feature_extract(d_test, (3,8))\n",
        "\n",
        "# PCA projection\n",
        "A_test_38 = (Vt[0:16, :] @ features_test_38.T).T\n",
        "\n",
        "labels_test_38[np.where(labels_test_38 == 3)] = -1  # assign -1 to digit 1\n",
        "labels_test_38[np.where(labels_test_38 == 8)] = 1  # assign 1 to digit 8\n",
        "\n",
        "# training mean square error\n",
        "mean_squared_error(y_true=labels_test_38, y_pred=model.predict(A_test_38))"
      ],
      "metadata": {
        "colab": {
          "base_uri": "https://localhost:8080/"
        },
        "id": "x6OPlDbC_cUy",
        "outputId": "92570ace-dd55-4fbf-b7bf-42ae9ad729b2"
      },
      "execution_count": 39,
      "outputs": [
        {
          "output_type": "execute_result",
          "data": {
            "text/plain": [
              "0.26103879245043504"
            ]
          },
          "metadata": {},
          "execution_count": 39
        }
      ]
    },
    {
      "cell_type": "markdown",
      "source": [
        "**Classification of Digit 2 and 7**"
      ],
      "metadata": {
        "id": "LIT2U2aK_tgg"
      }
    },
    {
      "cell_type": "code",
      "source": [
        "# extract and preprocess training data\n",
        "features_train_27, labels_train_27 = feature_extract(d_train, (2,7))\n",
        "\n",
        "# PCA projection\n",
        "A_train_27 = (Vt[0:16, :] @ features_train_27.T).T\n",
        "\n",
        "labels_train_27[np.where(labels_train_27 == 2)] = -1  # assign -1 to digit 2\n",
        "labels_train_27[np.where(labels_train_27 == 7)] = 1  # assign 1 to digit 7\n",
        "\n",
        "# fit the model\n",
        "model = linear_model.RidgeCV(alphas=alpha_vals)\n",
        "model.fit(A_train_27, labels_train_27)\n",
        "\n",
        "# training mean square error\n",
        "mean_squared_error(y_true=labels_train_27, y_pred=model.predict(A_train_27))"
      ],
      "metadata": {
        "colab": {
          "base_uri": "https://localhost:8080/"
        },
        "id": "UGHP0fWE_snd",
        "outputId": "529d5f6c-35c7-422f-f721-ee9fec36d45e"
      },
      "execution_count": 40,
      "outputs": [
        {
          "output_type": "execute_result",
          "data": {
            "text/plain": [
              "0.09214730483219917"
            ]
          },
          "metadata": {},
          "execution_count": 40
        }
      ]
    },
    {
      "cell_type": "code",
      "source": [
        "# extract and preprocess test data\n",
        "features_test_27, labels_test_27 = feature_extract(d_test, (2,7))\n",
        "\n",
        "# PCA projection\n",
        "A_test_27 = (Vt[0:16, :] @ features_test_27.T).T\n",
        "\n",
        "labels_test_27[np.where(labels_test_27 == 2)] = -1  # assign -1 to digit 2\n",
        "labels_test_27[np.where(labels_test_27 == 7)] = 1  # assign 1 to digit 7\n",
        "\n",
        "# training mean square error\n",
        "mean_squared_error(y_true=labels_test_27, y_pred=model.predict(A_test_27))"
      ],
      "metadata": {
        "colab": {
          "base_uri": "https://localhost:8080/"
        },
        "id": "2ylQOsdi_9mK",
        "outputId": "95e94e97-2aad-4e81-e997-df7a87faa510"
      },
      "execution_count": 41,
      "outputs": [
        {
          "output_type": "execute_result",
          "data": {
            "text/plain": [
              "0.13355454164989142"
            ]
          },
          "metadata": {},
          "execution_count": 41
        }
      ]
    }
  ]
}